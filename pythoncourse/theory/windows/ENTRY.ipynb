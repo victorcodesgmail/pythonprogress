{
 "cells": [
  {
   "cell_type": "code",
   "execution_count": 71,
   "id": "94dd9374",
   "metadata": {},
   "outputs": [],
   "source": [
    "from tkinter import *\n"
   ]
  },
  {
   "cell_type": "code",
   "execution_count": 72,
   "id": "a3ef10cf",
   "metadata": {},
   "outputs": [],
   "source": [
    "def submit():\n",
    "    #we need to get entry value within our submit function and one way we can do that is by \n",
    "    user_name = entry.get()\n",
    "    print(f\"Hello {user_name}\")"
   ]
  },
  {
   "cell_type": "code",
   "execution_count": 73,
   "id": "a9be68f4",
   "metadata": {},
   "outputs": [],
   "source": [
    "def delete():\n",
    "    entry.delete(0, END)"
   ]
  },
  {
   "cell_type": "code",
   "execution_count": 74,
   "id": "9a78ac1a",
   "metadata": {},
   "outputs": [],
   "source": [
    "def backspace():\n",
    "    entry.delete(len(entry.get())-1, END)"
   ]
  },
  {
   "cell_type": "code",
   "execution_count": 75,
   "id": "f4fdd707",
   "metadata": {},
   "outputs": [],
   "source": [
    "window = Tk()"
   ]
  },
  {
   "cell_type": "code",
   "execution_count": 76,
   "id": "91b97fde",
   "metadata": {},
   "outputs": [],
   "source": [
    "entry = Entry(window, font = ('Arial', 50),fg= \"#00FF00\",\n",
    "              bg = \"black\",\n",
    "              show = '*'\n",
    "        )\n"
   ]
  },
  {
   "cell_type": "code",
   "execution_count": 77,
   "id": "7b053310",
   "metadata": {},
   "outputs": [],
   "source": [
    "# entry.insert(0, 'hello')"
   ]
  },
  {
   "cell_type": "code",
   "execution_count": 78,
   "id": "2d016395",
   "metadata": {},
   "outputs": [],
   "source": [
    "entry.pack(side = RIGHT)"
   ]
  },
  {
   "cell_type": "code",
   "execution_count": 79,
   "id": "1e6fc8d9",
   "metadata": {},
   "outputs": [],
   "source": [
    "submit_button = Button(window, command = submit, text = \"SUBMIT\")\n",
    "submit_button.pack(side = RIGHT)"
   ]
  },
  {
   "cell_type": "code",
   "execution_count": 80,
   "id": "9db566a3",
   "metadata": {},
   "outputs": [],
   "source": [
    "delete_button = Button(window, command = delete, text = \"DELETE\")\n",
    "delete_button.pack(side = RIGHT)"
   ]
  },
  {
   "cell_type": "code",
   "execution_count": 81,
   "id": "72d95b4c",
   "metadata": {},
   "outputs": [],
   "source": [
    "backspace_button = Button(window, command = backspace, text = \"BACKSPACE\")\n",
    "backspace_button.pack(side = RIGHT)"
   ]
  },
  {
   "cell_type": "code",
   "execution_count": 82,
   "id": "ac5b29d2",
   "metadata": {},
   "outputs": [
    {
     "name": "stdout",
     "output_type": "stream",
     "text": [
      "Hello hello victor\n"
     ]
    }
   ],
   "source": [
    "window.mainloop()"
   ]
  },
  {
   "cell_type": "code",
   "execution_count": null,
   "id": "f1a9cd4d",
   "metadata": {},
   "outputs": [],
   "source": []
  }
 ],
 "metadata": {
  "kernelspec": {
   "display_name": "Python 3 (ipykernel)",
   "language": "python",
   "name": "python3"
  },
  "language_info": {
   "codemirror_mode": {
    "name": "ipython",
    "version": 3
   },
   "file_extension": ".py",
   "mimetype": "text/x-python",
   "name": "python",
   "nbconvert_exporter": "python",
   "pygments_lexer": "ipython3",
   "version": "3.11.5"
  }
 },
 "nbformat": 4,
 "nbformat_minor": 5
}
