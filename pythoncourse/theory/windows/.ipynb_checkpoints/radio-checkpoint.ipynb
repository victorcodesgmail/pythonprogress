{
 "cells": [
  {
   "cell_type": "code",
   "execution_count": 22,
   "id": "28bb8beb",
   "metadata": {},
   "outputs": [],
   "source": [
    "from tkinter import *"
   ]
  },
  {
   "cell_type": "code",
   "execution_count": 23,
   "id": "31f241fa",
   "metadata": {},
   "outputs": [],
   "source": [
    "courses = [\"MachineLear\", \"BlockChain\", \"datascience\"]"
   ]
  },
  {
   "cell_type": "code",
   "execution_count": 24,
   "id": "35d3d846",
   "metadata": {
    "scrolled": true
   },
   "outputs": [
    {
     "ename": "RuntimeError",
     "evalue": "Too early to create variable: no default root window",
     "output_type": "error",
     "traceback": [
      "\u001b[0;31m---------------------------------------------------------------------------\u001b[0m",
      "\u001b[0;31mRuntimeError\u001b[0m                              Traceback (most recent call last)",
      "Cell \u001b[0;32mIn[24], line 1\u001b[0m\n\u001b[0;32m----> 1\u001b[0m x \u001b[38;5;241m=\u001b[39m IntVar()\n",
      "File \u001b[0;32m~/anaconda3/lib/python3.11/tkinter/__init__.py:586\u001b[0m, in \u001b[0;36mIntVar.__init__\u001b[0;34m(self, master, value, name)\u001b[0m\n\u001b[1;32m    576\u001b[0m \u001b[38;5;28;01mdef\u001b[39;00m \u001b[38;5;21m__init__\u001b[39m(\u001b[38;5;28mself\u001b[39m, master\u001b[38;5;241m=\u001b[39m\u001b[38;5;28;01mNone\u001b[39;00m, value\u001b[38;5;241m=\u001b[39m\u001b[38;5;28;01mNone\u001b[39;00m, name\u001b[38;5;241m=\u001b[39m\u001b[38;5;28;01mNone\u001b[39;00m):\n\u001b[1;32m    577\u001b[0m \u001b[38;5;250m    \u001b[39m\u001b[38;5;124;03m\"\"\"Construct an integer variable.\u001b[39;00m\n\u001b[1;32m    578\u001b[0m \n\u001b[1;32m    579\u001b[0m \u001b[38;5;124;03m    MASTER can be given as master widget.\u001b[39;00m\n\u001b[0;32m   (...)\u001b[0m\n\u001b[1;32m    584\u001b[0m \u001b[38;5;124;03m    then the existing value is retained.\u001b[39;00m\n\u001b[1;32m    585\u001b[0m \u001b[38;5;124;03m    \"\"\"\u001b[39;00m\n\u001b[0;32m--> 586\u001b[0m     Variable\u001b[38;5;241m.\u001b[39m\u001b[38;5;21m__init__\u001b[39m(\u001b[38;5;28mself\u001b[39m, master, value, name)\n",
      "File \u001b[0;32m~/anaconda3/lib/python3.11/tkinter/__init__.py:393\u001b[0m, in \u001b[0;36mVariable.__init__\u001b[0;34m(self, master, value, name)\u001b[0m\n\u001b[1;32m    391\u001b[0m \u001b[38;5;28;01mglobal\u001b[39;00m _varnum\n\u001b[1;32m    392\u001b[0m \u001b[38;5;28;01mif\u001b[39;00m master \u001b[38;5;129;01mis\u001b[39;00m \u001b[38;5;28;01mNone\u001b[39;00m:\n\u001b[0;32m--> 393\u001b[0m     master \u001b[38;5;241m=\u001b[39m _get_default_root(\u001b[38;5;124m'\u001b[39m\u001b[38;5;124mcreate variable\u001b[39m\u001b[38;5;124m'\u001b[39m)\n\u001b[1;32m    394\u001b[0m \u001b[38;5;28mself\u001b[39m\u001b[38;5;241m.\u001b[39m_root \u001b[38;5;241m=\u001b[39m master\u001b[38;5;241m.\u001b[39m_root()\n\u001b[1;32m    395\u001b[0m \u001b[38;5;28mself\u001b[39m\u001b[38;5;241m.\u001b[39m_tk \u001b[38;5;241m=\u001b[39m master\u001b[38;5;241m.\u001b[39mtk\n",
      "File \u001b[0;32m~/anaconda3/lib/python3.11/tkinter/__init__.py:319\u001b[0m, in \u001b[0;36m_get_default_root\u001b[0;34m(what)\u001b[0m\n\u001b[1;32m    317\u001b[0m \u001b[38;5;28;01mif\u001b[39;00m _default_root \u001b[38;5;129;01mis\u001b[39;00m \u001b[38;5;28;01mNone\u001b[39;00m:\n\u001b[1;32m    318\u001b[0m     \u001b[38;5;28;01mif\u001b[39;00m what:\n\u001b[0;32m--> 319\u001b[0m         \u001b[38;5;28;01mraise\u001b[39;00m \u001b[38;5;167;01mRuntimeError\u001b[39;00m(\u001b[38;5;124mf\u001b[39m\u001b[38;5;124m\"\u001b[39m\u001b[38;5;124mToo early to \u001b[39m\u001b[38;5;132;01m{\u001b[39;00mwhat\u001b[38;5;132;01m}\u001b[39;00m\u001b[38;5;124m: no default root window\u001b[39m\u001b[38;5;124m\"\u001b[39m)\n\u001b[1;32m    320\u001b[0m     root \u001b[38;5;241m=\u001b[39m Tk()\n\u001b[1;32m    321\u001b[0m     \u001b[38;5;28;01massert\u001b[39;00m _default_root \u001b[38;5;129;01mis\u001b[39;00m root\n",
      "\u001b[0;31mRuntimeError\u001b[0m: Too early to create variable: no default root window"
     ]
    }
   ],
   "source": [
    "x = IntVar()"
   ]
  },
  {
   "cell_type": "code",
   "execution_count": 25,
   "id": "b35f989f",
   "metadata": {},
   "outputs": [],
   "source": [
    "window = Tk()\n"
   ]
  },
  {
   "cell_type": "code",
   "execution_count": 26,
   "id": "3673c204",
   "metadata": {},
   "outputs": [],
   "source": [
    "for index in  range(len(courses)):\n",
    "    food_radio = Radiobutton(window, text = courses[index],\n",
    "                             variable = x,\n",
    "                             value = index,#assigns each radiobutton a differernt index\n",
    "                             padx = 25,#add padding on x axis,\n",
    "                             font = (\"Impact\", 50)\n",
    "                            )\n",
    "    food_radio.pack(anchor = W)"
   ]
  },
  {
   "cell_type": "code",
   "execution_count": null,
   "id": "5c7a09ba",
   "metadata": {},
   "outputs": [],
   "source": []
  },
  {
   "cell_type": "code",
   "execution_count": 27,
   "id": "2f3d8509",
   "metadata": {},
   "outputs": [],
   "source": [
    "window.mainloop()"
   ]
  },
  {
   "cell_type": "code",
   "execution_count": null,
   "id": "08abf275",
   "metadata": {},
   "outputs": [],
   "source": []
  }
 ],
 "metadata": {
  "kernelspec": {
   "display_name": "Python 3 (ipykernel)",
   "language": "python",
   "name": "python3"
  },
  "language_info": {
   "codemirror_mode": {
    "name": "ipython",
    "version": 3
   },
   "file_extension": ".py",
   "mimetype": "text/x-python",
   "name": "python",
   "nbconvert_exporter": "python",
   "pygments_lexer": "ipython3",
   "version": "3.11.5"
  }
 },
 "nbformat": 4,
 "nbformat_minor": 5
}
