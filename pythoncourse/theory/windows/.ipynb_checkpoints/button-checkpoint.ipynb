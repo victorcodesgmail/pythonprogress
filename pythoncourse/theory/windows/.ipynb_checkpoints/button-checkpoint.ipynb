{
 "cells": [
  {
   "cell_type": "code",
   "execution_count": 13,
   "id": "1e15146f",
   "metadata": {},
   "outputs": [],
   "source": [
    "from tkinter import *"
   ]
  },
  {
   "cell_type": "code",
   "execution_count": 14,
   "id": "050bcb80",
   "metadata": {},
   "outputs": [],
   "source": [
    "def click():\n",
    "    print(\"you clicked me\")"
   ]
  },
  {
   "cell_type": "code",
   "execution_count": 15,
   "id": "0e3ffbfd",
   "metadata": {},
   "outputs": [],
   "source": [
    "window = Tk()"
   ]
  },
  {
   "cell_type": "code",
   "execution_count": 16,
   "id": "10eaf9e6",
   "metadata": {},
   "outputs": [],
   "source": [
    "# photo = PhotoImage(firm.png)"
   ]
  },
  {
   "cell_type": "code",
   "execution_count": 17,
   "id": "f2f63473",
   "metadata": {},
   "outputs": [],
   "source": [
    "button = Button(window,\n",
    "               text = \"click me!\",\n",
    "                fg = \"#00FF00\",\n",
    "               command = click,\n",
    "#                 image = photo\n",
    "#                 compound = 'bottom'\n",
    "               \n",
    "               )"
   ]
  },
  {
   "cell_type": "code",
   "execution_count": 18,
   "id": "6de2c0a4",
   "metadata": {},
   "outputs": [],
   "source": [
    "button.pack()"
   ]
  },
  {
   "cell_type": "code",
   "execution_count": 19,
   "id": "ed1d7ae3",
   "metadata": {},
   "outputs": [],
   "source": [
    "window.mainloop()"
   ]
  },
  {
   "cell_type": "code",
   "execution_count": null,
   "id": "93e95764",
   "metadata": {},
   "outputs": [],
   "source": []
  }
 ],
 "metadata": {
  "kernelspec": {
   "display_name": "Python 3 (ipykernel)",
   "language": "python",
   "name": "python3"
  },
  "language_info": {
   "codemirror_mode": {
    "name": "ipython",
    "version": 3
   },
   "file_extension": ".py",
   "mimetype": "text/x-python",
   "name": "python",
   "nbconvert_exporter": "python",
   "pygments_lexer": "ipython3",
   "version": "3.11.5"
  }
 },
 "nbformat": 4,
 "nbformat_minor": 5
}
