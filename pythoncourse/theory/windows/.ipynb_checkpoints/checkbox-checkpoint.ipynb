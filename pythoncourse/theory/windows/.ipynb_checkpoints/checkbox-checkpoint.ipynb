{
 "cells": [
  {
   "cell_type": "code",
   "execution_count": 1,
   "id": "5e8c71d8",
   "metadata": {},
   "outputs": [],
   "source": [
    "from tkinter import *\n"
   ]
  },
  {
   "cell_type": "code",
   "execution_count": 2,
   "id": "856f383b",
   "metadata": {},
   "outputs": [],
   "source": [
    "def display():\n",
    "    if x.get() == 1:\n",
    "        print(\"Agreed\")\n",
    "    else:\n",
    "        print(\"Disagreed\")"
   ]
  },
  {
   "cell_type": "code",
   "execution_count": 3,
   "id": "5315438a",
   "metadata": {},
   "outputs": [],
   "source": [
    "window = Tk()"
   ]
  },
  {
   "cell_type": "code",
   "execution_count": 4,
   "id": "be9c03a6",
   "metadata": {},
   "outputs": [],
   "source": [
    "x = IntVar()"
   ]
  },
  {
   "cell_type": "code",
   "execution_count": 7,
   "id": "67bb3c18",
   "metadata": {},
   "outputs": [],
   "source": [
    "check_button = Checkbutton(window, text = \"We love to code\",\n",
    "                         variable = x ,\n",
    "                          onvalue = 1,\n",
    "                          offvalue = 0,\n",
    "                           bg = \"black\",\n",
    "                          command = display,\n",
    "                          fg = \"#00FF00\")"
   ]
  },
  {
   "cell_type": "code",
   "execution_count": 8,
   "id": "6e5e5b50",
   "metadata": {},
   "outputs": [],
   "source": [
    "check_button.pack()"
   ]
  },
  {
   "cell_type": "code",
   "execution_count": null,
   "id": "cb50c58d",
   "metadata": {},
   "outputs": [],
   "source": []
  },
  {
   "cell_type": "code",
   "execution_count": 9,
   "id": "6dec6656",
   "metadata": {},
   "outputs": [
    {
     "name": "stdout",
     "output_type": "stream",
     "text": [
      "Agreed\n",
      "Disagreed\n",
      "Agreed\n",
      "Disagreed\n",
      "Agreed\n"
     ]
    }
   ],
   "source": [
    "window.mainloop()"
   ]
  },
  {
   "cell_type": "code",
   "execution_count": null,
   "id": "0702a8a9",
   "metadata": {},
   "outputs": [],
   "source": []
  },
  {
   "cell_type": "code",
   "execution_count": null,
   "id": "186122ea",
   "metadata": {},
   "outputs": [],
   "source": []
  },
  {
   "cell_type": "code",
   "execution_count": null,
   "id": "089870e5",
   "metadata": {},
   "outputs": [],
   "source": []
  }
 ],
 "metadata": {
  "kernelspec": {
   "display_name": "Python 3 (ipykernel)",
   "language": "python",
   "name": "python3"
  },
  "language_info": {
   "codemirror_mode": {
    "name": "ipython",
    "version": 3
   },
   "file_extension": ".py",
   "mimetype": "text/x-python",
   "name": "python",
   "nbconvert_exporter": "python",
   "pygments_lexer": "ipython3",
   "version": "3.11.5"
  }
 },
 "nbformat": 4,
 "nbformat_minor": 5
}
