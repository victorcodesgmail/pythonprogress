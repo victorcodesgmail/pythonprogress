{
 "cells": [
  {
   "cell_type": "code",
   "execution_count": 1,
   "id": "356a0e77",
   "metadata": {},
   "outputs": [],
   "source": [
    "from tkinter import *\n",
    "\n"
   ]
  },
  {
   "cell_type": "code",
   "execution_count": 2,
   "id": "10764dfb",
   "metadata": {},
   "outputs": [],
   "source": [
    "def submit():\n",
    "    print(f\"The temperature is {scaler.get()} degrees celcious\")"
   ]
  },
  {
   "cell_type": "code",
   "execution_count": 3,
   "id": "4b3ff7bb",
   "metadata": {},
   "outputs": [],
   "source": [
    "window = Tk()"
   ]
  },
  {
   "cell_type": "code",
   "execution_count": 7,
   "id": "d30eed31",
   "metadata": {},
   "outputs": [],
   "source": [
    "scaler = Scale(window,\n",
    "               from_ = 0, \n",
    "               to = 100,\n",
    "               length = 600,\n",
    "               orient = VERTICAL,\n",
    "              tickinterval = 10, #10,20,30 ...\n",
    "               showvalue = 0, #removes adjacent values as you scroll up\n",
    "               troughcolor = '#69EAFF',\n",
    "               fg = \"FF1C00\"\n",
    "              )"
   ]
  },
  {
   "cell_type": "code",
   "execution_count": 8,
   "id": "665bfba7",
   "metadata": {},
   "outputs": [],
   "source": [
    "scaler.pack()"
   ]
  },
  {
   "cell_type": "code",
   "execution_count": 9,
   "id": "dcbbb49b",
   "metadata": {},
   "outputs": [],
   "source": [
    "button = Button(window, text = \"submit\", command = submit)\n",
    "button.pack()"
   ]
  },
  {
   "cell_type": "code",
   "execution_count": 10,
   "id": "670bf59b",
   "metadata": {},
   "outputs": [
    {
     "name": "stdout",
     "output_type": "stream",
     "text": [
      "The temperature is 100 degrees celcious\n",
      "The temperature is 69 degrees celcious\n",
      "The temperature is 88 degrees celcious\n"
     ]
    }
   ],
   "source": [
    "window.mainloop()"
   ]
  },
  {
   "cell_type": "code",
   "execution_count": null,
   "id": "67cbb5f1",
   "metadata": {},
   "outputs": [],
   "source": []
  },
  {
   "cell_type": "code",
   "execution_count": null,
   "id": "1f5a2c36",
   "metadata": {},
   "outputs": [],
   "source": []
  }
 ],
 "metadata": {
  "kernelspec": {
   "display_name": "Python 3 (ipykernel)",
   "language": "python",
   "name": "python3"
  },
  "language_info": {
   "codemirror_mode": {
    "name": "ipython",
    "version": 3
   },
   "file_extension": ".py",
   "mimetype": "text/x-python",
   "name": "python",
   "nbconvert_exporter": "python",
   "pygments_lexer": "ipython3",
   "version": "3.11.5"
  }
 },
 "nbformat": 4,
 "nbformat_minor": 5
}
